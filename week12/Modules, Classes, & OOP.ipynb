{
 "cells": [
  {
   "cell_type": "markdown",
   "metadata": {
    "slideshow": {
     "slide_type": "slide"
    }
   },
   "source": [
    "## Modules\n",
    "### Creating a module"
   ]
  },
  {
   "cell_type": "code",
   "execution_count": 3,
   "metadata": {
    "slideshow": {
     "slide_type": "subslide"
    }
   },
   "outputs": [],
   "source": [
    "#w12_module01.py\n",
    "college = {\n",
    "'science':['chemistry', 'physics', 'mathematics'],\n",
    "'engineering':['electric engineering','mechanics','chemical engineering'],\n",
    "'Social Science':['History', 'Sociology', 'Psychology']}\n",
    "\n",
    "\n",
    "def has_college(colstr):\n",
    "\tif colstr in college.keys():\n",
    "\t\tprint 'yes, NCU has school of %s ' % colstr\n",
    "\t\treturn True\n",
    "\telse:\n",
    "\t\tprint 'No, NCU does not have %s school' % colstr\n",
    "\t\treturn False\n"
   ]
  },
  {
   "cell_type": "markdown",
   "metadata": {
    "slideshow": {
     "slide_type": "subslide"
    }
   },
   "source": [
    "### Import a module"
   ]
  },
  {
   "cell_type": "code",
   "execution_count": 4,
   "metadata": {
    "slideshow": {
     "slide_type": "fragment"
    }
   },
   "outputs": [
    {
     "name": "stdout",
     "output_type": "stream",
     "text": [
      "{'science': ['chemistry', 'physics', 'mathematics'], 'engineering': ['electric engineering', 'mechanics', 'chemical engineering'], 'Social Science': ['History', 'Sociology', 'Psychology']}\n"
     ]
    }
   ],
   "source": [
    "import w12_module01\n",
    "\n",
    "#listing members of the module w12_module01\n",
    "dir(w12_module01)\n",
    "\n",
    "#printing w12_module01.college\n",
    "print(w12_module01.college)\n"
   ]
  },
  {
   "cell_type": "markdown",
   "metadata": {
    "slideshow": {
     "slide_type": "subslide"
    }
   },
   "source": [
    "### What `import` does...\n",
    "\n",
    "* Look for `w12_module01.py` in the same directory. \n",
    "* If the above fails, look for `w12_imdule01.py` in `sys.path`.\n",
    "* Otherwise, generate `ImportError`."
   ]
  },
  {
   "cell_type": "markdown",
   "metadata": {
    "slideshow": {
     "slide_type": "subslide"
    }
   },
   "source": [
    "* Modules provide a namespace to host variables, functions, classes..."
   ]
  },
  {
   "cell_type": "markdown",
   "metadata": {
    "slideshow": {
     "slide_type": "fragment"
    }
   },
   "source": [
    "* Members of modules are accessed through its namespace"
   ]
  },
  {
   "cell_type": "markdown",
   "metadata": {
    "slideshow": {
     "slide_type": "subslide"
    }
   },
   "source": [
    "### Issues of import in ipython\n",
    "* Question: \n",
    "> I modified the contents of my module and import it again, but in ipython the imported module does not reflect my revision. Why?"
   ]
  },
  {
   "cell_type": "markdown",
   "metadata": {
    "slideshow": {
     "slide_type": "subslide"
    }
   },
   "source": [
    "* Answer:\n",
    "> If you import a module that has already been imported, Python does nothing. It does not re-read the file, even if it has changed."
   ]
  },
  {
   "cell_type": "markdown",
   "metadata": {
    "slideshow": {
     "slide_type": "subslide"
    }
   },
   "source": [
    "* Solution #1: restart ipython"
   ]
  },
  {
   "cell_type": "markdown",
   "metadata": {
    "slideshow": {
     "slide_type": "fragment"
    }
   },
   "source": [
    "* Solution #2: reload\n",
    "\n",
    "```python\n",
    "import yourmodule\n",
    "reload(yourmodule)\n",
    "```"
   ]
  },
  {
   "cell_type": "markdown",
   "metadata": {
    "slideshow": {
     "slide_type": "subslide"
    }
   },
   "source": [
    "* Solution #3: using the `autoreload` module after initiating ipython"
   ]
  },
  {
   "cell_type": "code",
   "execution_count": 5,
   "metadata": {
    "slideshow": {
     "slide_type": "fragment"
    }
   },
   "outputs": [
    {
     "name": "stdout",
     "output_type": "stream",
     "text": [
      "No, NCU does not have Science school\n",
      "No, NCU does not have Science school\n"
     ]
    },
    {
     "data": {
      "text/plain": [
       "False"
      ]
     },
     "execution_count": 5,
     "metadata": {},
     "output_type": "execute_result"
    }
   ],
   "source": [
    "%load_ext autoreload\n",
    "%autoreload 2\n",
    "from w12_module01 import has_college\n",
    "has_college('Science')\n",
    "\n",
    "#open w12_module01.py and make some changes to accommodate upper case\n",
    "has_college('Science') #this time it should return yes\n"
   ]
  },
  {
   "cell_type": "markdown",
   "metadata": {
    "slideshow": {
     "slide_type": "subslide"
    }
   },
   "source": [
    "### Exercise\n",
    "Create a module that has attributes including variables and functions. Import it in all ways that you know. "
   ]
  },
  {
   "cell_type": "markdown",
   "metadata": {
    "slideshow": {
     "slide_type": "subslide"
    }
   },
   "source": [
    "### Difference between `run` and `import`"
   ]
  },
  {
   "cell_type": "code",
   "execution_count": 6,
   "metadata": {
    "slideshow": {
     "slide_type": "subslide"
    }
   },
   "outputs": [
    {
     "name": "stdout",
     "output_type": "stream",
     "text": [
      "using_name\n",
      "using_name\n",
      "I am being imported from another module\n"
     ]
    }
   ],
   "source": [
    "import using_name"
   ]
  },
  {
   "cell_type": "code",
   "execution_count": 7,
   "metadata": {
    "slideshow": {
     "slide_type": "subslide"
    }
   },
   "outputs": [
    {
     "name": "stdout",
     "output_type": "stream",
     "text": [
      "__main__\n",
      "This program is being run by itself\n"
     ]
    }
   ],
   "source": [
    "run using_name.py"
   ]
  },
  {
   "cell_type": "markdown",
   "metadata": {
    "slideshow": {
     "slide_type": "slide"
    }
   },
   "source": [
    "## Classes\n",
    "\n",
    "### Creating a class"
   ]
  },
  {
   "cell_type": "code",
   "execution_count": 8,
   "metadata": {
    "slideshow": {
     "slide_type": "subslide"
    }
   },
   "outputs": [],
   "source": [
    "#w12_class01.py\n",
    "class university(object):\n",
    "    \n",
    "    #__init__ is a special built-in function that is automatically executed upon instantiation \n",
    "    # of an instance\n",
    "    def __init__(self):\n",
    "        self.college = {\n",
    "        'science':['chemistry', 'physics', 'mathematics'], \n",
    "        'engineering':['electric engineering','mechanics','chemical engineering'],\n",
    "        'Social Science':['History', 'Socioloyg', 'Psychology']}\n"
   ]
  },
  {
   "cell_type": "code",
   "execution_count": 9,
   "metadata": {
    "slideshow": {
     "slide_type": "subslide"
    }
   },
   "outputs": [],
   "source": [
    "    def has_college(self, colstr):\n",
    "\t\tif colstr in self.college.keys():\n",
    "\t\t\tprint 'yes, NCU has school of %s ' % colstr\n",
    "\t\t\treturn True \n",
    "\t\telse:\n",
    "\t\t\tprint 'You wish!! NCU does not have %s school' % colstr\n",
    "\t\t\treturn False\n",
    "\t\t\t"
   ]
  },
  {
   "cell_type": "markdown",
   "metadata": {
    "slideshow": {
     "slide_type": "subslide"
    }
   },
   "source": [
    "### Instantiate (create) an instance of a class"
   ]
  },
  {
   "cell_type": "code",
   "execution_count": 10,
   "metadata": {
    "slideshow": {
     "slide_type": "subslide"
    }
   },
   "outputs": [],
   "source": [
    "# initiate an instance of class\n",
    "myuni = university()"
   ]
  },
  {
   "cell_type": "code",
   "execution_count": 11,
   "metadata": {
    "scrolled": true,
    "slideshow": {
     "slide_type": "subslide"
    }
   },
   "outputs": [
    {
     "name": "stdout",
     "output_type": "stream",
     "text": [
      "['__class__', '__delattr__', '__dict__', '__doc__', '__format__', '__getattribute__', '__hash__', '__init__', '__module__', '__new__', '__reduce__', '__reduce_ex__', '__repr__', '__setattr__', '__sizeof__', '__str__', '__subclasshook__', '__weakref__', 'college']\n"
     ]
    }
   ],
   "source": [
    "# extracting and printing out the properties of the instance\n",
    "b = dir(myuni)\n",
    "print(b)\n",
    "#for those who are interested in looking into the contents of b\n",
    "# for aa in b:\n",
    "#     cmdstr = 'myuni.' + aa \n",
    "#     print(eval(cmdstr)) #print out the contents of the class members\n",
    "  "
   ]
  },
  {
   "cell_type": "markdown",
   "metadata": {
    "slideshow": {
     "slide_type": "subslide"
    }
   },
   "source": [
    "### Exercise \n",
    "\n",
    "Compare how members of a module or a class are used. "
   ]
  },
  {
   "cell_type": "markdown",
   "metadata": {
    "slideshow": {
     "slide_type": "subslide"
    }
   },
   "source": [
    "### Flow of instantiation\n",
    "* Contents of `w12_class03.py`"
   ]
  },
  {
   "cell_type": "code",
   "execution_count": 12,
   "metadata": {
    "slideshow": {
     "slide_type": "subslide"
    }
   },
   "outputs": [],
   "source": [
    "class MyStuff(object):\n",
    "\tdef __init__(self):\n",
    "\t\tself.tangerine = 'And now a thousand years between'\n",
    "\t\t\n",
    "\tdef apple(self):\n",
    "\t\tprint \"i am a class apple!\"\n",
    "\t\tprint self.tangerine\n",
    "\t\ta = 1 + 3\n",
    "\t\tself.a = 2 + 3\n",
    "\t\treturn a\n",
    "\tdef coconut(self):\n",
    "\t\tprint \"i am a stupid coconut...\"\n",
    "\t\tprint tangerine"
   ]
  },
  {
   "cell_type": "code",
   "execution_count": 13,
   "metadata": {
    "slideshow": {
     "slide_type": "subslide"
    }
   },
   "outputs": [
    {
     "name": "stdout",
     "output_type": "stream",
     "text": [
      "i am a class apple!\n",
      "And now a thousand years between\n"
     ]
    },
    {
     "data": {
      "text/plain": [
       "4"
      ]
     },
     "execution_count": 13,
     "metadata": {},
     "output_type": "execute_result"
    }
   ],
   "source": [
    "# to instantiate the class:\n",
    "ms = MyStuff()\n",
    "ms.apple()"
   ]
  },
  {
   "cell_type": "markdown",
   "metadata": {
    "slideshow": {
     "slide_type": "subslide"
    }
   },
   "source": [
    "* Python looks for `MyStuff()` and sees that it is a class you've defined."
   ]
  },
  {
   "cell_type": "markdown",
   "metadata": {
    "slideshow": {
     "slide_type": "fragment"
    }
   },
   "source": [
    "* Python crafts an empty object with all the functions you've specified in the class using `def`."
   ]
  },
  {
   "attachments": {},
   "cell_type": "markdown",
   "metadata": {
    "slideshow": {
     "slide_type": "fragment"
    }
   },
   "source": [
    "* Python then looks to see if you made a \"magic\" `__init__` function, and if you have it calls that function to initialize your newly created empty object."
   ]
  },
  {
   "cell_type": "markdown",
   "metadata": {
    "slideshow": {
     "slide_type": "subslide"
    }
   },
   "source": [
    "* In the `MyStuff` function `__init__` we then get this extra variable self, which is that empty object Python made for us."
   ]
  },
  {
   "cell_type": "markdown",
   "metadata": {
    "slideshow": {
     "slide_type": "fragment"
    }
   },
   "source": [
    "* We can set variables on it just like you would with a module, dictionary, or other object."
   ]
  },
  {
   "cell_type": "markdown",
   "metadata": {
    "slideshow": {
     "slide_type": "fragment"
    }
   },
   "source": [
    "* In this case, we set `self.tangerine` to a song lyric and then we've initialized this object."
   ]
  },
  {
   "cell_type": "markdown",
   "metadata": {
    "slideshow": {
     "slide_type": "subslide"
    }
   },
   "source": [
    "* Now Python can take this newly minted object and assign it to the thing variable for us to work with."
   ]
  },
  {
   "cell_type": "markdown",
   "metadata": {
    "slideshow": {
     "slide_type": "slide"
    }
   },
   "source": [
    "## Comparison among various types of variables"
   ]
  },
  {
   "cell_type": "markdown",
   "metadata": {
    "slideshow": {
     "slide_type": "subslide"
    }
   },
   "source": [
    "### Modules Are Like Dictionaries\n",
    " * A Python file with some functions or variables in it.\n",
    " > * You import that file.\n",
    " > * And you can access the functions or variables in that module with the . (dot) operator."
   ]
  },
  {
   "cell_type": "markdown",
   "metadata": {
    "slideshow": {
     "slide_type": "subslide"
    }
   },
   "source": [
    "### Difference between modules and dictionaries\n",
    "* Dictionary\n",
    ">* the key is a string and the syntax is [key]. "
   ]
  },
  {
   "cell_type": "markdown",
   "metadata": {
    "slideshow": {
     "slide_type": "fragment"
    }
   },
   "source": [
    "* Module\n",
    ">* the key is an identifier, and the syntax is .key. "
   ]
  },
  {
   "cell_type": "markdown",
   "metadata": {
    "slideshow": {
     "slide_type": "fragment"
    }
   },
   "source": [
    "* Other than that they are nearly the same thing."
   ]
  },
  {
   "cell_type": "markdown",
   "metadata": {
    "slideshow": {
     "slide_type": "slide"
    }
   },
   "source": [
    "## Object Oriented Programming in Python"
   ]
  },
  {
   "cell_type": "markdown",
   "metadata": {
    "slideshow": {
     "slide_type": "subslide"
    }
   },
   "source": [
    "### Procedural programming\n",
    "* Focusing on writing functions or procedures which operate on data\n",
    "* What we have been doing so far"
   ]
  },
  {
   "cell_type": "markdown",
   "metadata": {
    "slideshow": {
     "slide_type": "subslide"
    }
   },
   "source": [
    "### OOP\n",
    "* Focusing on the creation of objects which contain both data and functionality together\n",
    "* Think of it as a convenient ways of organizing your codes."
   ]
  },
  {
   "cell_type": "markdown",
   "metadata": {
    "slideshow": {
     "slide_type": "slide"
    }
   },
   "source": [
    "## Speak Object Oriented"
   ]
  },
  {
   "cell_type": "markdown",
   "metadata": {
    "slideshow": {
     "slide_type": "subslide"
    }
   },
   "source": [
    "### OOP Jargons\n",
    "| Keywords | meaning | \n",
    "| --- | --- | \n",
    "| class | Tell Python to make a new kind of thing |\n",
    "| object | most basic kind of thing |\n",
    "| instance | What you get when asking Python to create a class |\n",
    "| attribute| a property classes have that are from composition <p>and are usually variables|"
   ]
  },
  {
   "attachments": {},
   "cell_type": "markdown",
   "metadata": {
    "slideshow": {
     "slide_type": "subslide"
    }
   },
   "source": [
    "| Keywords | meaning | \n",
    "| --- | --- | \n",
    "| is-a | A phrase to say that something inherits from another|\n",
    "|has-a |A phrase to say that something is composed of other things<p> or has a trait, as in \"a salmon has-a mouth.\"|"
   ]
  },
  {
   "attachments": {},
   "cell_type": "markdown",
   "metadata": {
    "slideshow": {
     "slide_type": "subslide"
    }
   },
   "source": [
    "### Python class jargons\n",
    "| Keywords | meaning | \n",
    "| --- | --- | \n",
    "|class X(Y) |\"Make a class named X that is-a Y.\"|\n",
    "|class X(object): def __init__(self, J)|\"class X has-a __init__ that takes self and J parameters.\"|\n",
    "|class X(object): def M(self, J)|\"class X has-a function named M that takes self and J parameters.\"|"
   ]
  },
  {
   "attachments": {},
   "cell_type": "markdown",
   "metadata": {
    "slideshow": {
     "slide_type": "subslide"
    }
   },
   "source": [
    "| Keywords | meaning | \n",
    "| --- | --- | \n",
    "|foo = X()|\"Set foo to an instance of class X.\"|\n",
    "|foo.M(J)|\"From foo get the M function, and call it with parameters self, J.\"|\n",
    "|foo.K = Q|\"From foo get the K attribute and set it to Q.\"|"
   ]
  },
  {
   "cell_type": "markdown",
   "metadata": {
    "slideshow": {
     "slide_type": "subslide"
    }
   },
   "source": [
    "### Practice translation between Python OOP and English\n",
    "\n",
    "run oop_test.py"
   ]
  }
 ],
 "metadata": {
  "celltoolbar": "Slideshow",
  "kernelspec": {
   "display_name": "Python 2",
   "language": "python",
   "name": "python2"
  },
  "language_info": {
   "codemirror_mode": {
    "name": "ipython",
    "version": 2
   },
   "file_extension": ".py",
   "mimetype": "text/x-python",
   "name": "python",
   "nbconvert_exporter": "python",
   "pygments_lexer": "ipython2",
   "version": "2.7.15"
  },
  "toc": {
   "base_numbering": 1,
   "nav_menu": {},
   "number_sections": true,
   "sideBar": true,
   "skip_h1_title": false,
   "title_cell": "Table of Contents",
   "title_sidebar": "Contents",
   "toc_cell": false,
   "toc_position": {
    "height": "calc(100% - 180px)",
    "left": "10px",
    "top": "150px",
    "width": "230.4px"
   },
   "toc_section_display": true,
   "toc_window_display": false
  }
 },
 "nbformat": 4,
 "nbformat_minor": 2
}
